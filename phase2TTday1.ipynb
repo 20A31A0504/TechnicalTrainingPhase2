{
  "nbformat": 4,
  "nbformat_minor": 0,
  "metadata": {
    "colab": {
      "provenance": [],
      "authorship_tag": "ABX9TyO++1WRSrZnstyvq/c5H1L4",
      "include_colab_link": true
    },
    "kernelspec": {
      "name": "python3",
      "display_name": "Python 3"
    },
    "language_info": {
      "name": "python"
    }
  },
  "cells": [
    {
      "cell_type": "markdown",
      "metadata": {
        "id": "view-in-github",
        "colab_type": "text"
      },
      "source": [
        "<a href=\"https://colab.research.google.com/github/20A31A0504/TechnicalTrainingPhase2/blob/main/phase2TTday1.ipynb\" target=\"_parent\"><img src=\"https://colab.research.google.com/assets/colab-badge.svg\" alt=\"Open In Colab\"/></a>"
      ]
    },
    {
      "cell_type": "code",
      "execution_count": null,
      "metadata": {
        "colab": {
          "base_uri": "https://localhost:8080/"
        },
        "id": "T96Lq6fatY7o",
        "outputId": "cbbc028a-f216-4799-c859-b51384e31185"
      },
      "outputs": [
        {
          "output_type": "stream",
          "name": "stdout",
          "text": [
            "push item:10\n",
            "push item:20\n",
            "push item:30\n",
            "push item:40\n",
            "push item:50\n",
            "popeditem:50\n",
            "popeditem:40\n",
            "popeditem:30\n",
            "popeditem:20\n",
            "popeditem:10\n",
            "stack after popping[]\n"
          ]
        }
      ],
      "source": [
        "def create_stack():\n",
        "  stack=[]\n",
        "  return stack\n",
        "def check_empty(stack):\n",
        "  return len(stack)==0\n",
        "def maruthipush(stack,item):\n",
        "  stack.append(item)\n",
        "  print(\"push item:\"+ item)\n",
        "def maruthipop(stack):\n",
        "  if(check_empty(stack)):\n",
        "    return \"stack is empty\"\n",
        "  return stack.pop()\n",
        "stack=create_stack()\n",
        "maruthipush(stack,str(10))\n",
        "maruthipush(stack,str(20))\n",
        "maruthipush(stack,str(30))\n",
        "maruthipush(stack,str(40))\n",
        "maruthipush(stack,str(50))\n",
        "print(\"popeditem:\" +maruthipop(stack))\n",
        "print(\"popeditem:\" +maruthipop(stack))\n",
        "print(\"popeditem:\" +maruthipop(stack))\n",
        "print(\"popeditem:\" +maruthipop(stack))\n",
        "print(\"popeditem:\" +maruthipop(stack))\n",
        "print(\"stack after popping\"+str(stack))"
      ]
    },
    {
      "cell_type": "code",
      "source": [
        "def checkvalid(str1):\n",
        "  count=0\n",
        "  ans=False\n",
        "  for i in str1:\n",
        "    if i=='{' or i=='('"
      ],
      "metadata": {
        "id": "8T8vrN-qwKCE"
      },
      "execution_count": null,
      "outputs": []
    },
    {
      "cell_type": "code",
      "source": [
        "def rotateString(s,goal):\n",
        "        i=1\n",
        "        while(s==goal or i<=len(s)):\n",
        "            #temp=s\n",
        "            s1=s[i:]+s[:i]\n",
        "            print(s1)\n",
        "            if(s1==goal):\n",
        "                return True\n",
        "\n",
        "            i+=1\n",
        "        return False\n",
        "rotateString(\"abcde\",\"cdeab\")"
      ],
      "metadata": {
        "colab": {
          "base_uri": "https://localhost:8080/"
        },
        "id": "RVRQn1GTZAlW",
        "outputId": "350ce81f-89d6-4213-fa0f-375a088ae21d"
      },
      "execution_count": null,
      "outputs": [
        {
          "output_type": "stream",
          "name": "stdout",
          "text": [
            "bcdea\n",
            "cdeab\n"
          ]
        },
        {
          "output_type": "execute_result",
          "data": {
            "text/plain": [
              "True"
            ]
          },
          "metadata": {},
          "execution_count": 4
        }
      ]
    },
    {
      "cell_type": "code",
      "source": [],
      "metadata": {
        "id": "Ne0H3s8kZWip"
      },
      "execution_count": null,
      "outputs": []
    }
  ]
}