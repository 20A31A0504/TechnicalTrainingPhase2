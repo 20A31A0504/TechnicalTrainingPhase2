{
  "nbformat": 4,
  "nbformat_minor": 0,
  "metadata": {
    "colab": {
      "provenance": [],
      "authorship_tag": "ABX9TyOGcwEXVqQEo3K+LCjgmqSW",
      "include_colab_link": true
    },
    "kernelspec": {
      "name": "python3",
      "display_name": "Python 3"
    },
    "language_info": {
      "name": "python"
    }
  },
  "cells": [
    {
      "cell_type": "markdown",
      "metadata": {
        "id": "view-in-github",
        "colab_type": "text"
      },
      "source": [
        "<a href=\"https://colab.research.google.com/github/20A31A0504/TechnicalTrainingPhase2/blob/main/Phase2TTDay3.ipynb\" target=\"_parent\"><img src=\"https://colab.research.google.com/assets/colab-badge.svg\" alt=\"Open In Colab\"/></a>"
      ]
    },
    {
      "cell_type": "code",
      "execution_count": null,
      "metadata": {
        "id": "MlE6uBQmCRl5",
        "colab": {
          "base_uri": "https://localhost:8080/",
          "height": 132
        },
        "outputId": "ecccd3ff-eb10-4041-98f7-1d6e288c6a33"
      },
      "outputs": [
        {
          "output_type": "error",
          "ename": "SyntaxError",
          "evalue": "ignored",
          "traceback": [
            "\u001b[0;36m  File \u001b[0;32m\"<ipython-input-6-29e2eb821c74>\"\u001b[0;36m, line \u001b[0;32m5\u001b[0m\n\u001b[0;31m    for i in range(len(l1))\u001b[0m\n\u001b[0m                           ^\u001b[0m\n\u001b[0;31mSyntaxError\u001b[0m\u001b[0;31m:\u001b[0m invalid syntax\n"
          ]
        }
      ],
      "source": [
        "l1=list(map(int,input().split()))\n",
        "l2=list(map(int,input().split()))\n",
        "l3=list(map(int,input().split()))\n",
        "l=[]\n",
        "for i in range(len(l1))\n",
        "  for j in range(len(l2))\n",
        "    for k in range(len(l3))\n",
        "    union=list(set.union(l1,))"
      ]
    },
    {
      "cell_type": "code",
      "source": [
        "s1=\"123_abc check?\"\n",
        "s2=[]\n",
        "s3=[]\n",
        "s4=\"\"\n",
        "j=0\n",
        "for i in range(len(s1)-1,-1,-1):\n",
        "  if(s1[i]>=\"a\" and s1[i]<=\"z\") or (s1[i]>=\"A\" and s1[i]<=\"Z\") or (s1[i]>='0' and s1[i]<='9'):\n",
        "    s2.insert(j,s1[i])\n",
        "    j+=1\n",
        "  else:\n",
        "    s3.append(s1[i])\n",
        "    s3.append(i)\n",
        "s3.reverse()\n",
        "for i in range(0,len(s3),2):\n",
        "  s2.insert(int(s3[i]),s3[i+1])\n",
        "for i in s2:\n",
        "  s4+=i\n",
        "print(s1)\n",
        "print(s4)"
      ],
      "metadata": {
        "colab": {
          "base_uri": "https://localhost:8080/"
        },
        "id": "o5_CZOm8GZQH",
        "outputId": "367df624-06ae-4d3a-ad7b-9774e5239a26"
      },
      "execution_count": null,
      "outputs": [
        {
          "output_type": "stream",
          "name": "stdout",
          "text": [
            "123_abc check?\n",
            "kce_hcc ba321?\n"
          ]
        }
      ]
    },
    {
      "cell_type": "code",
      "source": [
        "s=\"raseeda\"\n",
        "for i in range(len(s)):\n",
        "  print(s[i],end=\" \")\n",
        "j=0\n",
        "for i in range(len(s)):\n",
        "  for j in range(len(s),0,-1):\n",
        "    print(\" \",end=\" \")\n",
        "\n",
        "  print(s[i])\n",
        "\n",
        "\n"
      ],
      "metadata": {
        "id": "3fFTAAjnHBPV",
        "colab": {
          "base_uri": "https://localhost:8080/"
        },
        "outputId": "2abf8d6c-f486-4833-b715-e2ffe9a33c6f"
      },
      "execution_count": null,
      "outputs": [
        {
          "output_type": "stream",
          "name": "stdout",
          "text": [
            "r a s e e d a               r\n",
            "              a\n",
            "              s\n",
            "              e\n",
            "              e\n",
            "              d\n",
            "              a\n"
          ]
        }
      ]
    },
    {
      "cell_type": "code",
      "source": [
        "def ispanagram(str):\n",
        "    alphabet=\"abcdefghijklmnopqrstuvwxyz\"\n",
        "    for char in alphabet:\n",
        "       if char not in str.lower():\n",
        "         return False\n",
        "    return True\n",
        "str=\"ABCDEFGHIJKLMNOPQRSTUVWXZ hello yellow\"\n",
        "\n",
        "if(ispanagram(str)==True):\n",
        "  print(\"ispanagram\")\n",
        "else:\n",
        "  print(\"is not panagram\")\n"
      ],
      "metadata": {
        "colab": {
          "base_uri": "https://localhost:8080/"
        },
        "id": "UDBDRRsXTXVj",
        "outputId": "aa63cdde-641c-480c-9a07-cd84070f417b"
      },
      "execution_count": null,
      "outputs": [
        {
          "output_type": "stream",
          "name": "stdout",
          "text": [
            "ispanagram\n"
          ]
        }
      ]
    },
    {
      "cell_type": "code",
      "source": [],
      "metadata": {
        "id": "ruq0vPKDVGsn"
      },
      "execution_count": null,
      "outputs": []
    }
  ]
}