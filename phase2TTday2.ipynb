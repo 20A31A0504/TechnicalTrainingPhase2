{
  "nbformat": 4,
  "nbformat_minor": 0,
  "metadata": {
    "colab": {
      "provenance": [],
      "authorship_tag": "ABX9TyPjlkRNiFwHE5wMUXO+9aEx",
      "include_colab_link": true
    },
    "kernelspec": {
      "name": "python3",
      "display_name": "Python 3"
    },
    "language_info": {
      "name": "python"
    }
  },
  "cells": [
    {
      "cell_type": "markdown",
      "metadata": {
        "id": "view-in-github",
        "colab_type": "text"
      },
      "source": [
        "<a href=\"https://colab.research.google.com/github/20A31A0504/TechnicalTrainingPhase2/blob/main/phase2TTday2.ipynb\" target=\"_parent\"><img src=\"https://colab.research.google.com/assets/colab-badge.svg\" alt=\"Open In Colab\"/></a>"
      ]
    },
    {
      "cell_type": "code",
      "execution_count": null,
      "metadata": {
        "colab": {
          "base_uri": "https://localhost:8080/"
        },
        "id": "938ISeVLxhHp",
        "outputId": "dbfb9f12-6cc4-40f3-a0f2-0f714f51e332"
      },
      "outputs": [
        {
          "output_type": "stream",
          "name": "stdout",
          "text": [
            "['Diwali', 'dhasara', 'x-max', 'bakrid']\n",
            "4\n",
            "popped item: Diwali\n",
            "popped item: dhasara\n",
            "popped item: x-max\n",
            "popped item: bakrid\n",
            "[]\n",
            "0\n"
          ]
        }
      ],
      "source": [
        "class fstQueue:\n",
        "  def __init__(self):\n",
        "    self.queue=list()\n",
        "  def add_element(self,val):\n",
        "    if val not in self.queue:\n",
        "      self.queue.append(val)\n",
        "      return True\n",
        "    return False\n",
        "  def display(self):\n",
        "    print(self.queue)\n",
        "  def size(self):\n",
        "    print(len(self.queue))\n",
        "  def delete_element(self):\n",
        "    print(\"popped item: \"+self.queue.pop(0))\n",
        "q1=fstQueue()\n",
        "q1.add_element(\"Diwali\")\n",
        "q1.add_element(\"dhasara\")\n",
        "q1.add_element(\"x-max\")\n",
        "q1.add_element(\"bakrid\")\n",
        "q1.display()\n",
        "q1.size()\n",
        "\n",
        "q1.delete_element()\n",
        "q1.delete_element()\n",
        "q1.delete_element()\n",
        "q1.delete_element()\n",
        "q1.display()\n",
        "q1.size()"
      ]
    },
    {
      "cell_type": "code",
      "source": [
        "class Deque:\n",
        "  def __init__(self):\n",
        "    self.items=[]\n",
        "  def isEmpty(self):\n",
        "    return self.items==[]\n",
        "  def addRear(self,val):\n",
        "    self.items.append(val)\n",
        "  def addFront(self,val):\n",
        "    self.items.insert(0,val)\n",
        "  def removeFront(self):\n",
        "    return self.items.pop(0)\n",
        "  def removeRear(self):\n",
        "    return self.items.pop()\n",
        "  def display(self):\n",
        "    print(self.items)\n",
        "d=Deque()\n",
        "print(d.isEmpty())\n",
        "d.addRear(8)\n",
        "d.addRear(5)\n",
        "d.addFront(7)\n",
        "d.addFront(10)\n",
        "print(d.removeFront())\n",
        "print(d.isEmpty())\n",
        "d.addFront(11)\n",
        "print(d.removeRear())\n",
        "d.addFront(55)\n",
        "d.addRear(45)\n",
        "d.addRear(65)\n",
        "d.addRear(68)\n",
        "d.addRear(75)\n",
        "print(d.items)\n",
        "\n",
        "for i in range(len(d.items)+2):\n",
        "  if d.items[i] %5==0:\n",
        "\n",
        "    d.items.insert(i+1,7)\n",
        "\n",
        "\n",
        "print(d.items)"
      ],
      "metadata": {
        "colab": {
          "base_uri": "https://localhost:8080/"
        },
        "id": "i2V1P7ezAc9-",
        "outputId": "ec05a7f0-aa4e-4631-8ab7-a6f3b9b36c32"
      },
      "execution_count": null,
      "outputs": [
        {
          "output_type": "stream",
          "name": "stdout",
          "text": [
            "True\n",
            "10\n",
            "False\n",
            "5\n",
            "[55, 11, 7, 8, 45, 65, 68, 75]\n",
            "[55, 7, 11, 7, 8, 45, 7, 65, 7, 68, 75]\n"
          ]
        }
      ]
    },
    {
      "cell_type": "code",
      "source": [
        "class Node:\n",
        "  def __init__(self,data):\n",
        "    self.data=data\n",
        "    self.next=None\n",
        "    self.prev=None\n",
        "class Queue:\n",
        "  def __init__(self):\n",
        "    self.head=None\n",
        "    self.last=None\n",
        "  def enqueue(self,data):\n",
        "    if self.head is None:\n",
        "      self.head=Node(data)\n",
        "      self.last=self.head\n",
        "    else:\n",
        "      self.last.next=Node(data)\n",
        "      self.last.next.prev=self.last\n",
        "      self.last=self.last.next\n",
        "  def dequeue(self):\n",
        "    if self.head is None:\n",
        "      return None\n",
        "    else:\n",
        "      temp=self.head\n",
        "  def first(self):\n",
        "    return self.head.data\n",
        "  def size(self):\n",
        "    temp=self.head\n",
        "    count=0\n",
        "    while temp is not None:\n",
        "      count=count+1\n",
        "      temp=temp.next\n",
        "    return count\n",
        "  def isEmpty(self):\n",
        "    if self.head is None:\n",
        "      return True\n",
        "    else:\n",
        "      return False\n",
        "  def printqueue(self):\n",
        "    print(\"Queue elements are:\")\n",
        "    temp=self.head\n",
        "    while temp is not None:\n",
        "      print(temp.data,end=\"->\")\n",
        "      temp=temp.next\n"
      ],
      "metadata": {
        "id": "3wCrBKh9K-he"
      },
      "execution_count": null,
      "outputs": []
    },
    {
      "cell_type": "code",
      "source": [
        "l1=list(map(int,input().split()))\n",
        "l2=list(map(int,input().split()))\n",
        "l=[]\n",
        "if len(l1)!=len(l2):\n",
        "  n=max(len(l1),len(l2))\n",
        "  l1.zfill(n)\n",
        "  l2.zfill(n)\n",
        "\n",
        "\n",
        "\n",
        "for i in range(len(l1)):\n",
        "  l[i]=l1[i]+l2[i]\n",
        "  print(i)\n",
        "print(l)\n",
        "\n",
        "\n",
        "\n"
      ],
      "metadata": {
        "colab": {
          "base_uri": "https://localhost:8080/",
          "height": 271
        },
        "id": "RBw4p8ppx0FC",
        "outputId": "610504c6-3fa4-4023-81ef-ea5125fcae6b"
      },
      "execution_count": null,
      "outputs": [
        {
          "name": "stdout",
          "output_type": "stream",
          "text": [
            "10 20 30\n",
            "1 2 3\n"
          ]
        },
        {
          "output_type": "error",
          "ename": "IndexError",
          "evalue": "ignored",
          "traceback": [
            "\u001b[0;31m---------------------------------------------------------------------------\u001b[0m",
            "\u001b[0;31mIndexError\u001b[0m                                Traceback (most recent call last)",
            "\u001b[0;32m<ipython-input-33-557280d76cec>\u001b[0m in \u001b[0;36m<module>\u001b[0;34m\u001b[0m\n\u001b[1;32m     10\u001b[0m \u001b[0;34m\u001b[0m\u001b[0m\n\u001b[1;32m     11\u001b[0m \u001b[0;32mfor\u001b[0m \u001b[0mi\u001b[0m \u001b[0;32min\u001b[0m \u001b[0mrange\u001b[0m\u001b[0;34m(\u001b[0m\u001b[0mlen\u001b[0m\u001b[0;34m(\u001b[0m\u001b[0ml1\u001b[0m\u001b[0;34m)\u001b[0m\u001b[0;34m)\u001b[0m\u001b[0;34m:\u001b[0m\u001b[0;34m\u001b[0m\u001b[0;34m\u001b[0m\u001b[0m\n\u001b[0;32m---> 12\u001b[0;31m   \u001b[0ml\u001b[0m\u001b[0;34m[\u001b[0m\u001b[0mi\u001b[0m\u001b[0;34m]\u001b[0m\u001b[0;34m=\u001b[0m\u001b[0ml1\u001b[0m\u001b[0;34m[\u001b[0m\u001b[0mi\u001b[0m\u001b[0;34m]\u001b[0m\u001b[0;34m+\u001b[0m\u001b[0ml2\u001b[0m\u001b[0;34m[\u001b[0m\u001b[0mi\u001b[0m\u001b[0;34m]\u001b[0m\u001b[0;34m\u001b[0m\u001b[0;34m\u001b[0m\u001b[0m\n\u001b[0m\u001b[1;32m     13\u001b[0m   \u001b[0mprint\u001b[0m\u001b[0;34m(\u001b[0m\u001b[0mi\u001b[0m\u001b[0;34m)\u001b[0m\u001b[0;34m\u001b[0m\u001b[0;34m\u001b[0m\u001b[0m\n\u001b[1;32m     14\u001b[0m \u001b[0mprint\u001b[0m\u001b[0;34m(\u001b[0m\u001b[0ml\u001b[0m\u001b[0;34m)\u001b[0m\u001b[0;34m\u001b[0m\u001b[0;34m\u001b[0m\u001b[0m\n",
            "\u001b[0;31mIndexError\u001b[0m: list assignment index out of range"
          ]
        }
      ]
    },
    {
      "cell_type": "code",
      "source": [
        "for i in range(10,0,-1):\n",
        "  print(i)"
      ],
      "metadata": {
        "colab": {
          "base_uri": "https://localhost:8080/"
        },
        "id": "n911LblWx_uT",
        "outputId": "4d868fa6-b624-4d2f-abc2-36e0377227ae"
      },
      "execution_count": null,
      "outputs": [
        {
          "output_type": "stream",
          "name": "stdout",
          "text": [
            "10\n",
            "9\n",
            "8\n",
            "7\n",
            "6\n",
            "5\n",
            "4\n",
            "3\n",
            "2\n",
            "1\n"
          ]
        }
      ]
    },
    {
      "cell_type": "code",
      "source": [
        "def repeat(s,n):\n",
        "  s1=\" \"\n",
        "  if n<=0:\n",
        "    print(s1)\n",
        "  else:\n",
        "    for i in range(n):\n",
        "      print(s,end=\"\")\n",
        "\n",
        "\n",
        "s,n=input(),int(input())\n",
        "s1=\"\"\n",
        "s1=repeat(s,n)\n"
      ],
      "metadata": {
        "colab": {
          "base_uri": "https://localhost:8080/"
        },
        "id": "DzXDXU1mzDyE",
        "outputId": "5bd4841f-aa98-45ac-df1b-fcfa2fc01c9d"
      },
      "execution_count": null,
      "outputs": [
        {
          "output_type": "stream",
          "name": "stdout",
          "text": [
            "mango\n",
            "0\n",
            " \n"
          ]
        }
      ]
    },
    {
      "cell_type": "code",
      "source": [
        "l1=list(map(int,input().split()))\n",
        "l2=[]\n",
        "m=0\n",
        "for i in range(len(l1)-1):\n",
        "  for j in range(i+1,len(l1)):\n",
        "    if(l1[i]-l1[j]>m):\n",
        "      m=l1[i]-l1[j]\n",
        "      l2.append(i)\n",
        "      l2.append(j)\n",
        "      l2.append(m)\n",
        "\n",
        "print(l2)\n",
        "\n",
        "\n"
      ],
      "metadata": {
        "colab": {
          "base_uri": "https://localhost:8080/"
        },
        "id": "lAKtU0Nz0FSB",
        "outputId": "ddfa3195-5b66-48bf-9d70-e6ea0e10d155"
      },
      "execution_count": null,
      "outputs": [
        {
          "output_type": "stream",
          "name": "stdout",
          "text": [
            "40 10 20 35 25\n",
            "[]\n"
          ]
        }
      ]
    },
    {
      "cell_type": "code",
      "source": [
        "l1=list(map(int,input().split()))\n",
        "l2=[]\n",
        "m=0\n",
        "l=0\n",
        "for i in range(len(l1)-1):\n",
        "  for j in range(i+1,len(l1)):\n",
        "    l=l1[j]-l1[i]\n",
        "    if l>m:\n",
        "      m=max(l,m)\n",
        "      l2.append(i)\n",
        "      l2.append(j)\n",
        "      l2.append(m)\n",
        "\n",
        "print(l2[len(l2)-3:len(l2)])"
      ],
      "metadata": {
        "colab": {
          "base_uri": "https://localhost:8080/"
        },
        "id": "tNuIlgNO5y7y",
        "outputId": "dc8f2c2b-14f5-4d96-ac04-e1491de746d8"
      },
      "execution_count": null,
      "outputs": [
        {
          "output_type": "stream",
          "name": "stdout",
          "text": [
            "40 10 20 35 5\n",
            "[1, 3, 25]\n"
          ]
        }
      ]
    },
    {
      "cell_type": "code",
      "source": [],
      "metadata": {
        "id": "H5bn5xle7qWv"
      },
      "execution_count": null,
      "outputs": []
    }
  ]
}