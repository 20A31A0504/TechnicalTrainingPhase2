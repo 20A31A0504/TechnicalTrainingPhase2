{
  "cells": [
    {
      "cell_type": "markdown",
      "metadata": {
        "id": "view-in-github",
        "colab_type": "text"
      },
      "source": [
        "<a href=\"https://colab.research.google.com/github/20A31A0504/TechnicalTrainingPhase2/blob/main/Phase2TTday4.ipynb\" target=\"_parent\"><img src=\"https://colab.research.google.com/assets/colab-badge.svg\" alt=\"Open In Colab\"/></a>"
      ]
    },
    {
      "cell_type": "code",
      "execution_count": null,
      "metadata": {
        "colab": {
          "base_uri": "https://localhost:8080/"
        },
        "id": "n8gx8hKaKaMx",
        "outputId": "dce99bbf-b260-431f-97e6-40d46deafec7"
      },
      "outputs": [
        {
          "name": "stdout",
          "output_type": "stream",
          "text": [
            "Inorder Traversal: 4 2 1 70 80 90 3 60 100 50 PostOrder Traversal: 4 2 90 80 70 100 60 50 3 1 PreOrder Traversal: 1 2 4 3 70 80 90 50 60 100 "
          ]
        }
      ],
      "source": [
        "class Node:\n",
        "  def __init__(self,key):\n",
        "    self.left=None\n",
        "    self.right=None\n",
        "    self.val=key\n",
        "  def traversePreOrder(self):\n",
        "    print(self.val,end=\" \")\n",
        "    if self.left:\n",
        "      self.left.traversePreOrder()\n",
        "    if self.right:\n",
        "      self.right.traversePreOrder()\n",
        "\n",
        "  def traverseInOrder(self):\n",
        "\n",
        "    if self.left:\n",
        "      self.left.traverseInOrder()\n",
        "    print(self.val,end=\" \")\n",
        "    if self.right:\n",
        "      self.right.traverseInOrder()\n",
        "\n",
        "  def traversePostOrder(self):\n",
        "\n",
        "    if self.left:\n",
        "      self.left.traversePostOrder()\n",
        "\n",
        "    if self.right:\n",
        "      self.right.traversePostOrder()\n",
        "    print(self.val,end=\" \")\n",
        "\n",
        "root=Node(1)\n",
        "root.left=Node(2)\n",
        "root.right=Node(3)\n",
        "root.left.left=Node(4)\n",
        "root.right.right=Node(50)\n",
        "root.right.right.left=Node(60)\n",
        "root.right.left=Node(70)\n",
        "\n",
        "root.right.left.right=Node(80)\n",
        "root.right.left.right.right=Node(90)\n",
        "\n",
        "\n",
        "root.right.right.left.right=Node(100)\n",
        "print(\"Inorder Traversal: \",end=\"\")\n",
        "root.traverseInOrder()\n",
        "print(\"PostOrder Traversal: \",end=\"\")\n",
        "root.traversePostOrder()\n",
        "print(\"PreOrder Traversal: \",end=\"\")\n",
        "root.traversePreOrder()\n",
        "\n"
      ]
    },
    {
      "cell_type": "code",
      "execution_count": null,
      "metadata": {
        "colab": {
          "base_uri": "https://localhost:8080/"
        },
        "id": "SSEhyRsxdwWn",
        "outputId": "e6db293e-30ee-47b6-beb2-66bacc25e5d8"
      },
      "outputs": [
        {
          "name": "stdout",
          "output_type": "stream",
          "text": [
            "Inorder Traversal: \n",
            "d b h e a f j c g k \n",
            "PostOrder Traversal: \n",
            "d h e b j f k g c a \n",
            "PreOrder Traversal:\n",
            "a b d e h c f j g k "
          ]
        }
      ],
      "source": [
        "class Node:\n",
        "  def __init__(self,key):\n",
        "    self.left=None\n",
        "    self.right=None\n",
        "    self.val=key\n",
        "  def traversePreOrder(self):\n",
        "    print(self.val,end=\" \")\n",
        "    if self.left:\n",
        "      self.left.traversePreOrder()\n",
        "    if self.right:\n",
        "      self.right.traversePreOrder()\n",
        "\n",
        "  def traverseInOrder(self):\n",
        "\n",
        "    if self.left:\n",
        "      self.left.traverseInOrder()\n",
        "    print(self.val,end=\" \")\n",
        "    if self.right:\n",
        "      self.right.traverseInOrder()\n",
        "\n",
        "  def traversePostOrder(self):\n",
        "\n",
        "    if self.left:\n",
        "      self.left.traversePostOrder()\n",
        "\n",
        "    if self.right:\n",
        "      self.right.traversePostOrder()\n",
        "    print(self.val,end=\" \")\n",
        "\n",
        "root=Node('a')\n",
        "root.left=Node('b')\n",
        "root.left.left=Node('d')\n",
        "root.left.right=Node('e')\n",
        "root.left.right.left=Node('h')\n",
        "root.right=Node('c')\n",
        "root.right.left=Node('f')\n",
        "root.right.left.right=Node('j')\n",
        "root.right.right=Node('g')\n",
        "root.right.right.right=Node('k')\n",
        "\n",
        "\n",
        "\n",
        "\n",
        "print(\"Inorder Traversal: \")\n",
        "root.traverseInOrder()\n",
        "print(\"\\nPostOrder Traversal: \")\n",
        "root.traversePostOrder()\n",
        "print(\"\\nPreOrder Traversal:\")\n",
        "root.traversePreOrder()\n",
        "\n"
      ]
    },
    {
      "cell_type": "code",
      "execution_count": null,
      "metadata": {
        "colab": {
          "base_uri": "https://localhost:8080/"
        },
        "id": "rItz5EzXjaOu",
        "outputId": "8cde6de1-a342-4a57-b38e-8ca8da5d79cd"
      },
      "outputs": [
        {
          "name": "stdout",
          "output_type": "stream",
          "text": [
            "Inorder Traversal:  banana apple cat \n",
            "PostOrder Traversal: banana cat apple \n",
            "PreOrder Traversal: apple banana cat "
          ]
        }
      ],
      "source": [
        "class Node:\n",
        "  def __init__(self,key):\n",
        "    self.left=None\n",
        "    self.right=None\n",
        "    self.val=key\n",
        "  def traversePreOrder(self):\n",
        "    print(self.val,end=\" \")\n",
        "    if self.left:\n",
        "      self.left.traversePreOrder()\n",
        "    if self.right:\n",
        "      self.right.traversePreOrder()\n",
        "\n",
        "  def traverseInOrder(self):\n",
        "\n",
        "    if self.left:\n",
        "      self.left.traverseInOrder()\n",
        "    print(self.val,end=\" \")\n",
        "    if self.right:\n",
        "      self.right.traverseInOrder()\n",
        "\n",
        "  def traversePostOrder(self):\n",
        "\n",
        "    if self.left:\n",
        "      self.left.traversePostOrder()\n",
        "\n",
        "    if self.right:\n",
        "      self.right.traversePostOrder()\n",
        "    print(self.val,end=\" \")\n",
        "\n",
        "root=Node('apple')\n",
        "root.left=Node('banana')\n",
        "\n",
        "root.right=Node('cat')\n",
        "\n",
        "\n",
        "\n",
        "\n",
        "print(\"Inorder Traversal: \",end=\" \")\n",
        "root.traverseInOrder()\n",
        "print(\"\\nPostOrder Traversal: \",end=\"\")\n",
        "root.traversePostOrder()\n",
        "print(\"\\nPreOrder Traversal:\",end=\" \")\n",
        "root.traversePreOrder()\n",
        "\n"
      ]
    },
    {
      "cell_type": "code",
      "execution_count": null,
      "metadata": {
        "colab": {
          "base_uri": "https://localhost:8080/"
        },
        "id": "IWCExh3Wkob9",
        "outputId": "cec453c8-0d5b-40cd-a9f4-5cfdb221be7a"
      },
      "outputs": [
        {
          "name": "stdout",
          "output_type": "stream",
          "text": [
            "Inorder Traversal:  banana apple   5 z \n",
            "PostOrder Traversal: banana   z 5 apple \n",
            "PreOrder Traversal: apple banana 5   z "
          ]
        }
      ],
      "source": [
        "class Node:\n",
        "  def __init__(self,key):\n",
        "    self.left=None\n",
        "    self.right=None\n",
        "    self.val=key\n",
        "  def traversePreOrder(self):\n",
        "    print(self.val,end=\" \")\n",
        "    if self.left:\n",
        "      self.left.traversePreOrder()\n",
        "    if self.right:\n",
        "      self.right.traversePreOrder()\n",
        "\n",
        "  def traverseInOrder(self):\n",
        "\n",
        "    if self.left:\n",
        "      self.left.traverseInOrder()\n",
        "    print(self.val,end=\" \")\n",
        "    if self.right:\n",
        "      self.right.traverseInOrder()\n",
        "\n",
        "  def traversePostOrder(self):\n",
        "\n",
        "    if self.left:\n",
        "      self.left.traversePostOrder()\n",
        "\n",
        "    if self.right:\n",
        "      self.right.traversePostOrder()\n",
        "    print(self.val,end=\" \")\n",
        "\n",
        "root=Node('apple')\n",
        "root.left=Node('banana')\n",
        "\n",
        "root.right=Node(5)\n",
        "root.right.left=Node(\" \")\n",
        "root.right.right=Node('z')\n",
        "\n",
        "\n",
        "\n",
        "\n",
        "print(\"Inorder Traversal: \",end=\" \")\n",
        "root.traverseInOrder()\n",
        "print(\"\\nPostOrder Traversal: \",end=\"\")\n",
        "root.traversePostOrder()\n",
        "print(\"\\nPreOrder Traversal:\",end=\" \")\n",
        "root.traversePreOrder()\n",
        "\n"
      ]
    },
    {
      "cell_type": "code",
      "execution_count": null,
      "metadata": {
        "colab": {
          "base_uri": "https://localhost:8080/"
        },
        "id": "rqyU3xAvlI-u",
        "outputId": "91722f4a-9f70-43ee-9c98-ae5aa5f1fe7f"
      },
      "outputs": [
        {
          "output_type": "stream",
          "name": "stdout",
          "text": [
            "tree is not balanced\n",
            "the height of the tree is:  4\n"
          ]
        }
      ],
      "source": [
        "class Node:\n",
        "  def __init__(self,data):\n",
        "    self.data=data\n",
        "    self.left=self.right=None\n",
        "class Height:\n",
        "  def __init__(self):\n",
        "    self.height=0\n",
        "def isHeightBalanced(root,height):\n",
        "  left_height=Height()\n",
        "  right_height=Height()\n",
        "  if root is None:\n",
        "    return True\n",
        "  l=isHeightBalanced(root.left,left_height)\n",
        "  r=isHeightBalanced(root.right,right_height)\n",
        "  height.height=max(left_height.height,right_height.height)+1\n",
        "  if abs(left_height.height-right_height.height)<=1:\n",
        "    return l and r\n",
        "  return False\n",
        "height=Height()\n",
        "root=Node(5)\n",
        "root.left=Node(2)\n",
        "root.right=Node(10)\n",
        "root.left.left=Node(3)\n",
        "root.left.left.right=Node(7)\n",
        "if isHeightBalanced(root,height):\n",
        "  print(\"tree is balanced\")\n",
        "else:\n",
        "  print(\"tree is not balanced\")\n",
        "print(\"the height of the tree is: \",height.height)"
      ]
    },
    {
      "cell_type": "code",
      "source": [
        "class Node:\n",
        "  count=0\n",
        "  def __init__(self,data):\n",
        "    self.left=None\n",
        "    self.right=None\n",
        "    self.data=data\n",
        "  def insert (self,data):\n",
        "    if self.data:\n",
        "      if data<self.data:\n",
        "        self.count=self.count+1\n",
        "        if self.left is None:\n",
        "          self.left=Node(data)\n",
        "        else:\n",
        "          self.left.insert(data)\n",
        "      elif data>self.data:\n",
        "        self.count=self.count+1\n",
        "        if self.right is None:\n",
        "          self.right=Node(data)\n",
        "        else:\n",
        "          self.right.insert(data)\n",
        "      else:\n",
        "        self.data=data\n",
        "  def findval(self,lkpval):\n",
        "    if lkpval<self.data:\n",
        "      if self.left is None:\n",
        "        return str(lkpval)+ \" Not found\"\n",
        "      return self.left.findval(lkpval)\n",
        "    elif lkpval>self.data:\n",
        "      if self.right is None:\n",
        "        return str(lkpval)+\" not Found\"\n",
        "      return  self.right.findval(lkpval)\n",
        "    else:\n",
        "      return str(self.data)+ ' is found'\n",
        "  def PrintTree(Self):\n",
        "    if self.left:\n",
        "      self.left.PrintTree()\n",
        "    print(self.data)\n",
        "    if self.right:\n",
        "      self.right.PrintTree()\n",
        "class Height:\n",
        "  def __init__(self):\n",
        "    self.height=0\n",
        "def isHeightBalanced(root,height):\n",
        "  left_height=Height()\n",
        "  right_height=Height()\n",
        "  if root is None:\n",
        "    return True\n",
        "  l=isHeightBalanced(root.left,left_height)\n",
        "  r=isHeightBalanced(root.right,right_height)\n",
        "  height.height=max(left_height.height,right_height.height)+1\n",
        "  return height.height\n",
        "\n",
        "\n",
        "height=Height()\n",
        "root=Node(12)\n",
        "root.insert(6)\n",
        "root.insert(14)\n",
        "root.insert(3)\n",
        "root.insert(2)\n",
        "print(root.findval(7))\n",
        "print(root.findval(14))\n",
        "print(root.count+1)\n",
        "print(isHeightBalanced(root,height))\n",
        "\n",
        "\n"
      ],
      "metadata": {
        "colab": {
          "base_uri": "https://localhost:8080/"
        },
        "id": "m7vuCTo7DcS3",
        "outputId": "c2c1f79f-7899-4da4-c348-415f5c5e4b45"
      },
      "execution_count": null,
      "outputs": [
        {
          "output_type": "stream",
          "name": "stdout",
          "text": [
            "7 not Found\n",
            "14 is found\n",
            "5\n",
            "4\n"
          ]
        }
      ]
    },
    {
      "cell_type": "code",
      "source": [
        "s=list(map(int,input().split()))\n",
        "es=0\n",
        "os=0\n",
        "for i in range(len(s)):\n",
        "  if(s[i]==\"-\" or s[i]=='+'):\n",
        "    s[i]+=s[i+1]\n",
        "\n",
        "\n",
        "  if i%2==0:\n",
        "    es+=s[i]\n",
        "    print(\"es\",es)\n",
        "  else:\n",
        "    os+=s[i]\n",
        "    print(\"os\",os)\n",
        "\n",
        "\n",
        "if es==os:\n",
        "  print(\"cool number\")\n",
        "else:\n",
        "  print(\"not a cool number\")"
      ],
      "metadata": {
        "colab": {
          "base_uri": "https://localhost:8080/"
        },
        "id": "OEagBMK8KT1Z",
        "outputId": "c059be28-e51c-4670-abce-bcdd8ceb15e7"
      },
      "execution_count": null,
      "outputs": [
        {
          "output_type": "stream",
          "name": "stdout",
          "text": [
            "1111\n",
            "es 1111\n",
            "not a cool number\n"
          ]
        }
      ]
    },
    {
      "cell_type": "code",
      "source": [],
      "metadata": {
        "id": "YgFRxFtYe76d"
      },
      "execution_count": null,
      "outputs": []
    }
  ],
  "metadata": {
    "colab": {
      "provenance": [],
      "authorship_tag": "ABX9TyPzME5EYTn2V3omcThm0ici",
      "include_colab_link": true
    },
    "kernelspec": {
      "display_name": "Python 3",
      "name": "python3"
    },
    "language_info": {
      "name": "python"
    }
  },
  "nbformat": 4,
  "nbformat_minor": 0
}